{
 "cells": [
  {
   "cell_type": "code",
   "execution_count": null,
   "metadata": {},
   "outputs": [],
   "source": [
    "'''\n",
    "2020년 9월에 계정이 생성 된 유저에 국한하여 Conversion Rate 게산.\n",
    "- 대상 9월에 계정을 생성한 유저 전체.\n",
    "- 목표 전환 행동: 구매.\n",
    "- 대상 데이터: user.csv & payment.csv\n",
    "- 계산 방법: 2020년 9월에 계정을 생성한 후 구매한 유저 수[일별, 주별, 월 전체]/2020년 9월에 계정을 생성한 유저 전체[일별, 주별, 월 전체],\n",
    "- 분석 내용: 일별, 주별, 월별 전환 분석\n",
    "'''"
   ]
  },
  {
   "cell_type": "code",
   "execution_count": 2,
   "metadata": {},
   "outputs": [],
   "source": [
    "# 필요 라이브러리 import.\n",
    "import pandas as pd\n",
    "from pandasql import sqldf\n",
    "import matplotlib.pyplot as plt\n",
    "import math\n",
    "import datetime\n",
    "%matplotlib inline"
   ]
  },
  {
   "cell_type": "code",
   "execution_count": 3,
   "metadata": {},
   "outputs": [],
   "source": [
    "# user.csv와 paymnet.csv 로드.\n",
    "users = pd.read_csv('/home/mlhacker/Downloads/DS_assignment/data/linux/user.csv')\n",
    "payment = pd.read_csv('/home/mlhacker/Downloads/DS_assignment/data/linux/payment.csv')"
   ]
  },
  {
   "cell_type": "code",
   "execution_count": 4,
   "metadata": {},
   "outputs": [
    {
     "data": {
      "text/plain": [
       "23730"
      ]
     },
     "execution_count": 4,
     "metadata": {},
     "output_type": "execute_result"
    }
   ],
   "source": [
    "# 레코드 수 확인\n",
    "len(users)"
   ]
  },
  {
   "cell_type": "code",
   "execution_count": 5,
   "metadata": {},
   "outputs": [
    {
     "data": {
      "text/plain": [
       "7308"
      ]
     },
     "execution_count": 5,
     "metadata": {},
     "output_type": "execute_result"
    }
   ],
   "source": [
    "len(payment)"
   ]
  },
  {
   "cell_type": "code",
   "execution_count": 6,
   "metadata": {},
   "outputs": [
    {
     "data": {
      "text/html": [
       "<div>\n",
       "<style scoped>\n",
       "    .dataframe tbody tr th:only-of-type {\n",
       "        vertical-align: middle;\n",
       "    }\n",
       "\n",
       "    .dataframe tbody tr th {\n",
       "        vertical-align: top;\n",
       "    }\n",
       "\n",
       "    .dataframe thead th {\n",
       "        text-align: right;\n",
       "    }\n",
       "</style>\n",
       "<table border=\"1\" class=\"dataframe\">\n",
       "  <thead>\n",
       "    <tr style=\"text-align: right;\">\n",
       "      <th></th>\n",
       "      <th>user_idx</th>\n",
       "      <th>status</th>\n",
       "      <th>third_party_join_type</th>\n",
       "      <th>joined_date</th>\n",
       "    </tr>\n",
       "  </thead>\n",
       "  <tbody>\n",
       "    <tr>\n",
       "      <th>0</th>\n",
       "      <td>1a7fc929c6e372920f0f22d4fe43d4f25e15e965774a5e...</td>\n",
       "      <td>0</td>\n",
       "      <td>NaN</td>\n",
       "      <td>2019-08-10T01:01:09.000+09:00</td>\n",
       "    </tr>\n",
       "    <tr>\n",
       "      <th>1</th>\n",
       "      <td>dfd21a2faa82692cd0e5bfeb17454c27e9888819987076...</td>\n",
       "      <td>0</td>\n",
       "      <td>NaN</td>\n",
       "      <td>2020-08-04T01:24:36.000+09:00</td>\n",
       "    </tr>\n",
       "    <tr>\n",
       "      <th>2</th>\n",
       "      <td>e3e7e5954b5b1d7fd7d6a6189ca7ec055d41ee8397fb60...</td>\n",
       "      <td>0</td>\n",
       "      <td>NaN</td>\n",
       "      <td>2020-10-04T12:10:50.000+09:00</td>\n",
       "    </tr>\n",
       "    <tr>\n",
       "      <th>3</th>\n",
       "      <td>9f32f315adf23ca786593270a2e7d8ee30e997660b2455...</td>\n",
       "      <td>0</td>\n",
       "      <td>NaN</td>\n",
       "      <td>2019-11-28T01:00:36.000+09:00</td>\n",
       "    </tr>\n",
       "    <tr>\n",
       "      <th>4</th>\n",
       "      <td>12848af86c016225423b324cb20f7c74ab608a7b978b0e...</td>\n",
       "      <td>0</td>\n",
       "      <td>NaN</td>\n",
       "      <td>2020-09-13T17:21:46.000+09:00</td>\n",
       "    </tr>\n",
       "  </tbody>\n",
       "</table>\n",
       "</div>"
      ],
      "text/plain": [
       "                                            user_idx  status  \\\n",
       "0  1a7fc929c6e372920f0f22d4fe43d4f25e15e965774a5e...       0   \n",
       "1  dfd21a2faa82692cd0e5bfeb17454c27e9888819987076...       0   \n",
       "2  e3e7e5954b5b1d7fd7d6a6189ca7ec055d41ee8397fb60...       0   \n",
       "3  9f32f315adf23ca786593270a2e7d8ee30e997660b2455...       0   \n",
       "4  12848af86c016225423b324cb20f7c74ab608a7b978b0e...       0   \n",
       "\n",
       "  third_party_join_type                    joined_date  \n",
       "0                   NaN  2019-08-10T01:01:09.000+09:00  \n",
       "1                   NaN  2020-08-04T01:24:36.000+09:00  \n",
       "2                   NaN  2020-10-04T12:10:50.000+09:00  \n",
       "3                   NaN  2019-11-28T01:00:36.000+09:00  \n",
       "4                   NaN  2020-09-13T17:21:46.000+09:00  "
      ]
     },
     "execution_count": 6,
     "metadata": {},
     "output_type": "execute_result"
    }
   ],
   "source": [
    "# 로딩된 데이터 확인.\n",
    "users.head()"
   ]
  },
  {
   "cell_type": "code",
   "execution_count": 7,
   "metadata": {},
   "outputs": [
    {
     "data": {
      "text/html": [
       "<div>\n",
       "<style scoped>\n",
       "    .dataframe tbody tr th:only-of-type {\n",
       "        vertical-align: middle;\n",
       "    }\n",
       "\n",
       "    .dataframe tbody tr th {\n",
       "        vertical-align: top;\n",
       "    }\n",
       "\n",
       "    .dataframe thead th {\n",
       "        text-align: right;\n",
       "    }\n",
       "</style>\n",
       "<table border=\"1\" class=\"dataframe\">\n",
       "  <thead>\n",
       "    <tr style=\"text-align: right;\">\n",
       "      <th></th>\n",
       "      <th>user_idx</th>\n",
       "      <th>subscription_type</th>\n",
       "      <th>cart_discount_price</th>\n",
       "      <th>order_shipping_price</th>\n",
       "      <th>order_total_price</th>\n",
       "      <th>paid_date</th>\n",
       "    </tr>\n",
       "  </thead>\n",
       "  <tbody>\n",
       "    <tr>\n",
       "      <th>0</th>\n",
       "      <td>0973f573635c1b55a58f1d221f992bfeb0b3e007a93efb...</td>\n",
       "      <td>구독</td>\n",
       "      <td>5100</td>\n",
       "      <td>3000</td>\n",
       "      <td>12900</td>\n",
       "      <td>2020-10-21</td>\n",
       "    </tr>\n",
       "    <tr>\n",
       "      <th>1</th>\n",
       "      <td>305181c0babb5077b46ccb298a41469729a6760b19e44d...</td>\n",
       "      <td>구독</td>\n",
       "      <td>5100</td>\n",
       "      <td>3000</td>\n",
       "      <td>12900</td>\n",
       "      <td>2020-10-09</td>\n",
       "    </tr>\n",
       "    <tr>\n",
       "      <th>2</th>\n",
       "      <td>5fa450bdb2e831617f0132293d63638e0f93f1f62af4ca...</td>\n",
       "      <td>구독</td>\n",
       "      <td>5100</td>\n",
       "      <td>3000</td>\n",
       "      <td>12900</td>\n",
       "      <td>2020-10-11</td>\n",
       "    </tr>\n",
       "    <tr>\n",
       "      <th>3</th>\n",
       "      <td>85649b91d8ac8d2e84faa6c54032254356fe02c69d5fa0...</td>\n",
       "      <td>구독</td>\n",
       "      <td>5100</td>\n",
       "      <td>3000</td>\n",
       "      <td>12900</td>\n",
       "      <td>2020-10-14</td>\n",
       "    </tr>\n",
       "    <tr>\n",
       "      <th>4</th>\n",
       "      <td>05afd1abc70fce9afaa18482a0bb9c6cb082e65b1e0ab4...</td>\n",
       "      <td>구독</td>\n",
       "      <td>5100</td>\n",
       "      <td>3000</td>\n",
       "      <td>12900</td>\n",
       "      <td>2020-10-21</td>\n",
       "    </tr>\n",
       "  </tbody>\n",
       "</table>\n",
       "</div>"
      ],
      "text/plain": [
       "                                            user_idx subscription_type  \\\n",
       "0  0973f573635c1b55a58f1d221f992bfeb0b3e007a93efb...                구독   \n",
       "1  305181c0babb5077b46ccb298a41469729a6760b19e44d...                구독   \n",
       "2  5fa450bdb2e831617f0132293d63638e0f93f1f62af4ca...                구독   \n",
       "3  85649b91d8ac8d2e84faa6c54032254356fe02c69d5fa0...                구독   \n",
       "4  05afd1abc70fce9afaa18482a0bb9c6cb082e65b1e0ab4...                구독   \n",
       "\n",
       "   cart_discount_price  order_shipping_price  order_total_price   paid_date  \n",
       "0                 5100                  3000              12900  2020-10-21  \n",
       "1                 5100                  3000              12900  2020-10-09  \n",
       "2                 5100                  3000              12900  2020-10-11  \n",
       "3                 5100                  3000              12900  2020-10-14  \n",
       "4                 5100                  3000              12900  2020-10-21  "
      ]
     },
     "execution_count": 7,
     "metadata": {},
     "output_type": "execute_result"
    }
   ],
   "source": [
    "payment.head()"
   ]
  },
  {
   "cell_type": "code",
   "execution_count": 8,
   "metadata": {},
   "outputs": [
    {
     "name": "stdout",
     "output_type": "stream",
     "text": [
      "<class 'pandas.core.frame.DataFrame'>\n",
      "RangeIndex: 23730 entries, 0 to 23729\n",
      "Data columns (total 4 columns):\n",
      "user_idx                 23730 non-null object\n",
      "status                   23730 non-null int64\n",
      "third_party_join_type    2379 non-null object\n",
      "joined_date              23730 non-null object\n",
      "dtypes: int64(1), object(3)\n",
      "memory usage: 741.6+ KB\n"
     ]
    }
   ],
   "source": [
    "users.info()"
   ]
  },
  {
   "cell_type": "code",
   "execution_count": 9,
   "metadata": {},
   "outputs": [
    {
     "name": "stdout",
     "output_type": "stream",
     "text": [
      "<class 'pandas.core.frame.DataFrame'>\n",
      "RangeIndex: 7308 entries, 0 to 7307\n",
      "Data columns (total 6 columns):\n",
      "user_idx                7308 non-null object\n",
      "subscription_type       7277 non-null object\n",
      "cart_discount_price     7308 non-null int64\n",
      "order_shipping_price    7308 non-null int64\n",
      "order_total_price       7308 non-null int64\n",
      "paid_date               7308 non-null object\n",
      "dtypes: int64(3), object(3)\n",
      "memory usage: 342.6+ KB\n"
     ]
    }
   ],
   "source": [
    "payment.info()"
   ]
  },
  {
   "cell_type": "code",
   "execution_count": 10,
   "metadata": {},
   "outputs": [],
   "source": [
    "# 날짜 속성 값을 이용하기 위해 현재 스트링으로 된 속성 값을 datetime 값으로 변경.\n",
    "users['joined_date'] = pd.to_datetime(users['joined_date'])"
   ]
  },
  {
   "cell_type": "code",
   "execution_count": 11,
   "metadata": {},
   "outputs": [],
   "source": [
    "# 9월에 계정을 생성한 사용자 확인.\n",
    "users['month'] = users['joined_date'].dt.month\n",
    "users['year'] = users['joined_date'].dt.year\n",
    "users['day'] = users['joined_date'].dt.day\n",
    "users['weekofmonth'] = (users['day']-1) // 7 + 1    # 그달의 주[1,2,3,4,5]."
   ]
  },
  {
   "cell_type": "code",
   "execution_count": 12,
   "metadata": {},
   "outputs": [
    {
     "data": {
      "text/plain": [
       "array([ 8, 10, 11,  9,  7,  4,  5,  6, 12,  3,  2,  1])"
      ]
     },
     "execution_count": 12,
     "metadata": {},
     "output_type": "execute_result"
    }
   ],
   "source": [
    "# 전제 유저 데이터에 월 속성 값이 제대로 삽입 된 것인지 확인.\n",
    "users['month'].unique()"
   ]
  },
  {
   "cell_type": "code",
   "execution_count": 13,
   "metadata": {},
   "outputs": [
    {
     "data": {
      "text/plain": [
       "array([2019, 2020])"
      ]
     },
     "execution_count": 13,
     "metadata": {},
     "output_type": "execute_result"
    }
   ],
   "source": [
    "# 전제 유저 데이터에 년 속성 값이 제대로 삽입 된 것인지 확인.\n",
    "users['year'].unique()"
   ]
  },
  {
   "cell_type": "code",
   "execution_count": 14,
   "metadata": {},
   "outputs": [
    {
     "data": {
      "text/plain": [
       "array([10,  4, 28, 13, 12, 14,  7,  6, 17, 20, 19, 23,  5,  3, 11, 22, 29,\n",
       "       30, 24, 21,  2, 15, 26, 16, 25,  1, 31, 27,  8,  9, 18])"
      ]
     },
     "execution_count": 14,
     "metadata": {},
     "output_type": "execute_result"
    }
   ],
   "source": [
    "# 전제 유저 데이터에 일자 속성 값이 제대로 삽입 된 것인지 확인.\n",
    "users['day'].unique()"
   ]
  },
  {
   "cell_type": "code",
   "execution_count": 15,
   "metadata": {},
   "outputs": [
    {
     "data": {
      "text/plain": [
       "array([2, 1, 4, 3, 5])"
      ]
     },
     "execution_count": 15,
     "metadata": {},
     "output_type": "execute_result"
    }
   ],
   "source": [
    "# 전제 유저 데이터에 주 속성 값이 제대로 삽입 된 것인지 확인.\n",
    "users['weekofmonth'].unique()"
   ]
  },
  {
   "cell_type": "code",
   "execution_count": 16,
   "metadata": {},
   "outputs": [],
   "source": [
    "# user.csv로 부터 2020년 9월에 계정을 생성한 유저 데이터 수집.\n",
    "september_users = users[(users['month'] == 9) & (users['year'] == 2020)]"
   ]
  },
  {
   "cell_type": "code",
   "execution_count": 17,
   "metadata": {},
   "outputs": [
    {
     "data": {
      "text/plain": [
       "2979"
      ]
     },
     "execution_count": 17,
     "metadata": {},
     "output_type": "execute_result"
    }
   ],
   "source": [
    "# 2020년 9월에 계정을 생성한 유저 수 확인.\n",
    "len(september_users)"
   ]
  },
  {
   "cell_type": "code",
   "execution_count": 18,
   "metadata": {},
   "outputs": [
    {
     "data": {
      "text/html": [
       "<div>\n",
       "<style scoped>\n",
       "    .dataframe tbody tr th:only-of-type {\n",
       "        vertical-align: middle;\n",
       "    }\n",
       "\n",
       "    .dataframe tbody tr th {\n",
       "        vertical-align: top;\n",
       "    }\n",
       "\n",
       "    .dataframe thead th {\n",
       "        text-align: right;\n",
       "    }\n",
       "</style>\n",
       "<table border=\"1\" class=\"dataframe\">\n",
       "  <thead>\n",
       "    <tr style=\"text-align: right;\">\n",
       "      <th></th>\n",
       "      <th>user_idx</th>\n",
       "      <th>status</th>\n",
       "      <th>third_party_join_type</th>\n",
       "      <th>joined_date</th>\n",
       "      <th>month</th>\n",
       "      <th>year</th>\n",
       "      <th>day</th>\n",
       "      <th>weekofmonth</th>\n",
       "    </tr>\n",
       "  </thead>\n",
       "  <tbody>\n",
       "    <tr>\n",
       "      <th>4</th>\n",
       "      <td>12848af86c016225423b324cb20f7c74ab608a7b978b0e...</td>\n",
       "      <td>0</td>\n",
       "      <td>NaN</td>\n",
       "      <td>2020-09-13 17:21:46+09:00</td>\n",
       "      <td>9</td>\n",
       "      <td>2020</td>\n",
       "      <td>13</td>\n",
       "      <td>2</td>\n",
       "    </tr>\n",
       "    <tr>\n",
       "      <th>15</th>\n",
       "      <td>7a5df8771c0599ddda5635876791dec58ae1a665afeb0f...</td>\n",
       "      <td>0</td>\n",
       "      <td>NaN</td>\n",
       "      <td>2020-09-23 03:02:12+09:00</td>\n",
       "      <td>9</td>\n",
       "      <td>2020</td>\n",
       "      <td>23</td>\n",
       "      <td>4</td>\n",
       "    </tr>\n",
       "    <tr>\n",
       "      <th>31</th>\n",
       "      <td>f9ece3bf460bbab6ead24b2c0e574c3a5d868f42255023...</td>\n",
       "      <td>0</td>\n",
       "      <td>NaN</td>\n",
       "      <td>2020-09-11 08:46:01+09:00</td>\n",
       "      <td>9</td>\n",
       "      <td>2020</td>\n",
       "      <td>11</td>\n",
       "      <td>2</td>\n",
       "    </tr>\n",
       "    <tr>\n",
       "      <th>38</th>\n",
       "      <td>219bd25a5025c24c09e2f0b37c5e79c91ea16c0b170543...</td>\n",
       "      <td>0</td>\n",
       "      <td>NaN</td>\n",
       "      <td>2020-09-30 09:38:10+09:00</td>\n",
       "      <td>9</td>\n",
       "      <td>2020</td>\n",
       "      <td>30</td>\n",
       "      <td>5</td>\n",
       "    </tr>\n",
       "    <tr>\n",
       "      <th>40</th>\n",
       "      <td>41df7d667f0010dfb1d5b8c10fbe99cc22558bdbab43f4...</td>\n",
       "      <td>0</td>\n",
       "      <td>NaN</td>\n",
       "      <td>2020-09-30 19:25:41+09:00</td>\n",
       "      <td>9</td>\n",
       "      <td>2020</td>\n",
       "      <td>30</td>\n",
       "      <td>5</td>\n",
       "    </tr>\n",
       "  </tbody>\n",
       "</table>\n",
       "</div>"
      ],
      "text/plain": [
       "                                             user_idx  status  \\\n",
       "4   12848af86c016225423b324cb20f7c74ab608a7b978b0e...       0   \n",
       "15  7a5df8771c0599ddda5635876791dec58ae1a665afeb0f...       0   \n",
       "31  f9ece3bf460bbab6ead24b2c0e574c3a5d868f42255023...       0   \n",
       "38  219bd25a5025c24c09e2f0b37c5e79c91ea16c0b170543...       0   \n",
       "40  41df7d667f0010dfb1d5b8c10fbe99cc22558bdbab43f4...       0   \n",
       "\n",
       "   third_party_join_type               joined_date  month  year  day  \\\n",
       "4                    NaN 2020-09-13 17:21:46+09:00      9  2020   13   \n",
       "15                   NaN 2020-09-23 03:02:12+09:00      9  2020   23   \n",
       "31                   NaN 2020-09-11 08:46:01+09:00      9  2020   11   \n",
       "38                   NaN 2020-09-30 09:38:10+09:00      9  2020   30   \n",
       "40                   NaN 2020-09-30 19:25:41+09:00      9  2020   30   \n",
       "\n",
       "    weekofmonth  \n",
       "4             2  \n",
       "15            4  \n",
       "31            2  \n",
       "38            5  \n",
       "40            5  "
      ]
     },
     "execution_count": 18,
     "metadata": {},
     "output_type": "execute_result"
    }
   ],
   "source": [
    "# user.csv로 부터 수집된 2020년 9월 유저 데이터 확인.\n",
    "september_users.head()"
   ]
  },
  {
   "cell_type": "code",
   "execution_count": 19,
   "metadata": {},
   "outputs": [
    {
     "data": {
      "text/plain": [
       "'12.553729456384325%'"
      ]
     },
     "execution_count": 19,
     "metadata": {},
     "output_type": "execute_result"
    }
   ],
   "source": [
    "# user.csv에 있는 전체 유저 대비 2020년 9월 유저 비율 확인[단순 참고용].\n",
    "str((len(september_users)/len(users))*100)+'%'"
   ]
  },
  {
   "cell_type": "code",
   "execution_count": null,
   "metadata": {},
   "outputs": [],
   "source": [
    "#######################################################\n",
    "# 2020년 9월 구매 전환율 결과 출력                         #\n",
    "#######################################################"
   ]
  },
  {
   "cell_type": "code",
   "execution_count": 20,
   "metadata": {},
   "outputs": [],
   "source": [
    "# payment.csv 정보를 이용하여 92020년 월에 계정을 생성한 후 구매한 유저 데이터 수집.\n",
    "september_conversioned_users = pd.merge(september_users, payment, on='user_idx', how='inner')"
   ]
  },
  {
   "cell_type": "code",
   "execution_count": 21,
   "metadata": {},
   "outputs": [],
   "source": [
    "# payment.csv로 부터 수집된 전환 유저중 중복 유저는 제거.\n",
    "september_conversioned_users = september_conversioned_users.drop_duplicates('user_idx') "
   ]
  },
  {
   "cell_type": "code",
   "execution_count": 23,
   "metadata": {},
   "outputs": [
    {
     "data": {
      "text/plain": [
       "user_idx                 1472\n",
       "status                   1472\n",
       "third_party_join_type     157\n",
       "joined_date              1472\n",
       "month                    1472\n",
       "year                     1472\n",
       "day                      1472\n",
       "weekofmonth              1472\n",
       "subscription_type        1472\n",
       "cart_discount_price      1472\n",
       "order_shipping_price     1472\n",
       "order_total_price        1472\n",
       "paid_date                1472\n",
       "dtype: int64"
      ]
     },
     "execution_count": 23,
     "metadata": {},
     "output_type": "execute_result"
    }
   ],
   "source": [
    "# 2020년 9월달에 구매한 유저 수 및 컬럼 확인.\n",
    "september_conversioned_users.count()"
   ]
  },
  {
   "cell_type": "code",
   "execution_count": 24,
   "metadata": {},
   "outputs": [
    {
     "data": {
      "text/html": [
       "<div>\n",
       "<style scoped>\n",
       "    .dataframe tbody tr th:only-of-type {\n",
       "        vertical-align: middle;\n",
       "    }\n",
       "\n",
       "    .dataframe tbody tr th {\n",
       "        vertical-align: top;\n",
       "    }\n",
       "\n",
       "    .dataframe thead th {\n",
       "        text-align: right;\n",
       "    }\n",
       "</style>\n",
       "<table border=\"1\" class=\"dataframe\">\n",
       "  <thead>\n",
       "    <tr style=\"text-align: right;\">\n",
       "      <th></th>\n",
       "      <th>user_idx</th>\n",
       "      <th>status</th>\n",
       "      <th>third_party_join_type</th>\n",
       "      <th>joined_date</th>\n",
       "      <th>month</th>\n",
       "      <th>year</th>\n",
       "      <th>day</th>\n",
       "      <th>weekofmonth</th>\n",
       "      <th>subscription_type</th>\n",
       "      <th>cart_discount_price</th>\n",
       "      <th>order_shipping_price</th>\n",
       "      <th>order_total_price</th>\n",
       "      <th>paid_date</th>\n",
       "    </tr>\n",
       "  </thead>\n",
       "  <tbody>\n",
       "    <tr>\n",
       "      <th>0</th>\n",
       "      <td>12848af86c016225423b324cb20f7c74ab608a7b978b0e...</td>\n",
       "      <td>0</td>\n",
       "      <td>NaN</td>\n",
       "      <td>2020-09-13 17:21:46+09:00</td>\n",
       "      <td>9</td>\n",
       "      <td>2020</td>\n",
       "      <td>13</td>\n",
       "      <td>2</td>\n",
       "      <td>구독</td>\n",
       "      <td>5100</td>\n",
       "      <td>3000</td>\n",
       "      <td>12900</td>\n",
       "      <td>2020-10-17</td>\n",
       "    </tr>\n",
       "    <tr>\n",
       "      <th>1</th>\n",
       "      <td>7a5df8771c0599ddda5635876791dec58ae1a665afeb0f...</td>\n",
       "      <td>0</td>\n",
       "      <td>NaN</td>\n",
       "      <td>2020-09-23 03:02:12+09:00</td>\n",
       "      <td>9</td>\n",
       "      <td>2020</td>\n",
       "      <td>23</td>\n",
       "      <td>4</td>\n",
       "      <td>구독</td>\n",
       "      <td>5100</td>\n",
       "      <td>3000</td>\n",
       "      <td>12900</td>\n",
       "      <td>2020-09-28</td>\n",
       "    </tr>\n",
       "    <tr>\n",
       "      <th>3</th>\n",
       "      <td>219bd25a5025c24c09e2f0b37c5e79c91ea16c0b170543...</td>\n",
       "      <td>0</td>\n",
       "      <td>NaN</td>\n",
       "      <td>2020-09-30 09:38:10+09:00</td>\n",
       "      <td>9</td>\n",
       "      <td>2020</td>\n",
       "      <td>30</td>\n",
       "      <td>5</td>\n",
       "      <td>구독</td>\n",
       "      <td>5100</td>\n",
       "      <td>3000</td>\n",
       "      <td>12900</td>\n",
       "      <td>2020-10-31</td>\n",
       "    </tr>\n",
       "    <tr>\n",
       "      <th>5</th>\n",
       "      <td>41df7d667f0010dfb1d5b8c10fbe99cc22558bdbab43f4...</td>\n",
       "      <td>0</td>\n",
       "      <td>NaN</td>\n",
       "      <td>2020-09-30 19:25:41+09:00</td>\n",
       "      <td>9</td>\n",
       "      <td>2020</td>\n",
       "      <td>30</td>\n",
       "      <td>5</td>\n",
       "      <td>구독</td>\n",
       "      <td>5100</td>\n",
       "      <td>3000</td>\n",
       "      <td>12900</td>\n",
       "      <td>2020-10-31</td>\n",
       "    </tr>\n",
       "    <tr>\n",
       "      <th>7</th>\n",
       "      <td>4d24194c636eb5e4aede7c3fd7e726c5e40378f37755c3...</td>\n",
       "      <td>0</td>\n",
       "      <td>NaN</td>\n",
       "      <td>2020-09-02 23:50:48+09:00</td>\n",
       "      <td>9</td>\n",
       "      <td>2020</td>\n",
       "      <td>2</td>\n",
       "      <td>1</td>\n",
       "      <td>구독</td>\n",
       "      <td>5100</td>\n",
       "      <td>3000</td>\n",
       "      <td>12900</td>\n",
       "      <td>2020-10-03</td>\n",
       "    </tr>\n",
       "  </tbody>\n",
       "</table>\n",
       "</div>"
      ],
      "text/plain": [
       "                                            user_idx  status  \\\n",
       "0  12848af86c016225423b324cb20f7c74ab608a7b978b0e...       0   \n",
       "1  7a5df8771c0599ddda5635876791dec58ae1a665afeb0f...       0   \n",
       "3  219bd25a5025c24c09e2f0b37c5e79c91ea16c0b170543...       0   \n",
       "5  41df7d667f0010dfb1d5b8c10fbe99cc22558bdbab43f4...       0   \n",
       "7  4d24194c636eb5e4aede7c3fd7e726c5e40378f37755c3...       0   \n",
       "\n",
       "  third_party_join_type               joined_date  month  year  day  \\\n",
       "0                   NaN 2020-09-13 17:21:46+09:00      9  2020   13   \n",
       "1                   NaN 2020-09-23 03:02:12+09:00      9  2020   23   \n",
       "3                   NaN 2020-09-30 09:38:10+09:00      9  2020   30   \n",
       "5                   NaN 2020-09-30 19:25:41+09:00      9  2020   30   \n",
       "7                   NaN 2020-09-02 23:50:48+09:00      9  2020    2   \n",
       "\n",
       "   weekofmonth subscription_type  cart_discount_price  order_shipping_price  \\\n",
       "0            2                구독                 5100                  3000   \n",
       "1            4                구독                 5100                  3000   \n",
       "3            5                구독                 5100                  3000   \n",
       "5            5                구독                 5100                  3000   \n",
       "7            1                구독                 5100                  3000   \n",
       "\n",
       "   order_total_price   paid_date  \n",
       "0              12900  2020-10-17  \n",
       "1              12900  2020-09-28  \n",
       "3              12900  2020-10-31  \n",
       "5              12900  2020-10-31  \n",
       "7              12900  2020-10-03  "
      ]
     },
     "execution_count": 24,
     "metadata": {},
     "output_type": "execute_result"
    }
   ],
   "source": [
    "# 2020년 9월달에 구매한 유저 데이터 확인.\n",
    "september_conversioned_users.head()"
   ]
  },
  {
   "cell_type": "code",
   "execution_count": 27,
   "metadata": {},
   "outputs": [
    {
     "name": "stdout",
     "output_type": "stream",
     "text": [
      "2020년 9월 전환율: 49.41%\n"
     ]
    }
   ],
   "source": [
    "monthly_conversion_summary = \"2020년 9월 구매 전환율: \"\n",
    "monthly_conversion_summary += \"{:.2f}\".format(len(september_conversioned_users)/len(september_users)*100)+'%'\n",
    "print(monthly_conversion_summary)"
   ]
  },
  {
   "cell_type": "code",
   "execution_count": null,
   "metadata": {},
   "outputs": [],
   "source": []
  },
  {
   "cell_type": "code",
   "execution_count": null,
   "metadata": {},
   "outputs": [],
   "source": []
  },
  {
   "cell_type": "code",
   "execution_count": null,
   "metadata": {},
   "outputs": [],
   "source": [
    "#############################################\n",
    "# 9월 주별 구매 전환율 결과 출력                  #\n",
    "#############################################"
   ]
  },
  {
   "cell_type": "code",
   "execution_count": 34,
   "metadata": {},
   "outputs": [],
   "source": [
    "september_users_by_week = september_users.groupby('weekofmonth').count()\n",
    "september_users_by_week.rename(columns={'user_idx':'user_count'}, inplace=True)"
   ]
  },
  {
   "cell_type": "code",
   "execution_count": 35,
   "metadata": {},
   "outputs": [
    {
     "data": {
      "text/html": [
       "<div>\n",
       "<style scoped>\n",
       "    .dataframe tbody tr th:only-of-type {\n",
       "        vertical-align: middle;\n",
       "    }\n",
       "\n",
       "    .dataframe tbody tr th {\n",
       "        vertical-align: top;\n",
       "    }\n",
       "\n",
       "    .dataframe thead th {\n",
       "        text-align: right;\n",
       "    }\n",
       "</style>\n",
       "<table border=\"1\" class=\"dataframe\">\n",
       "  <thead>\n",
       "    <tr style=\"text-align: right;\">\n",
       "      <th></th>\n",
       "      <th>user_count</th>\n",
       "      <th>status</th>\n",
       "      <th>third_party_join_type</th>\n",
       "      <th>joined_date</th>\n",
       "      <th>month</th>\n",
       "      <th>year</th>\n",
       "      <th>day</th>\n",
       "    </tr>\n",
       "    <tr>\n",
       "      <th>weekofmonth</th>\n",
       "      <th></th>\n",
       "      <th></th>\n",
       "      <th></th>\n",
       "      <th></th>\n",
       "      <th></th>\n",
       "      <th></th>\n",
       "      <th></th>\n",
       "    </tr>\n",
       "  </thead>\n",
       "  <tbody>\n",
       "    <tr>\n",
       "      <th>1</th>\n",
       "      <td>340</td>\n",
       "      <td>340</td>\n",
       "      <td>12</td>\n",
       "      <td>340</td>\n",
       "      <td>340</td>\n",
       "      <td>340</td>\n",
       "      <td>340</td>\n",
       "    </tr>\n",
       "    <tr>\n",
       "      <th>2</th>\n",
       "      <td>577</td>\n",
       "      <td>577</td>\n",
       "      <td>31</td>\n",
       "      <td>577</td>\n",
       "      <td>577</td>\n",
       "      <td>577</td>\n",
       "      <td>577</td>\n",
       "    </tr>\n",
       "    <tr>\n",
       "      <th>3</th>\n",
       "      <td>1051</td>\n",
       "      <td>1051</td>\n",
       "      <td>75</td>\n",
       "      <td>1051</td>\n",
       "      <td>1051</td>\n",
       "      <td>1051</td>\n",
       "      <td>1051</td>\n",
       "    </tr>\n",
       "    <tr>\n",
       "      <th>4</th>\n",
       "      <td>872</td>\n",
       "      <td>872</td>\n",
       "      <td>45</td>\n",
       "      <td>872</td>\n",
       "      <td>872</td>\n",
       "      <td>872</td>\n",
       "      <td>872</td>\n",
       "    </tr>\n",
       "    <tr>\n",
       "      <th>5</th>\n",
       "      <td>139</td>\n",
       "      <td>139</td>\n",
       "      <td>10</td>\n",
       "      <td>139</td>\n",
       "      <td>139</td>\n",
       "      <td>139</td>\n",
       "      <td>139</td>\n",
       "    </tr>\n",
       "  </tbody>\n",
       "</table>\n",
       "</div>"
      ],
      "text/plain": [
       "             user_count  status  third_party_join_type  joined_date  month  \\\n",
       "weekofmonth                                                                  \n",
       "1                   340     340                     12          340    340   \n",
       "2                   577     577                     31          577    577   \n",
       "3                  1051    1051                     75         1051   1051   \n",
       "4                   872     872                     45          872    872   \n",
       "5                   139     139                     10          139    139   \n",
       "\n",
       "             year   day  \n",
       "weekofmonth              \n",
       "1             340   340  \n",
       "2             577   577  \n",
       "3            1051  1051  \n",
       "4             872   872  \n",
       "5             139   139  "
      ]
     },
     "execution_count": 35,
     "metadata": {},
     "output_type": "execute_result"
    }
   ],
   "source": [
    "september_users_by_week.head()"
   ]
  },
  {
   "cell_type": "code",
   "execution_count": 41,
   "metadata": {},
   "outputs": [
    {
     "data": {
      "text/html": [
       "<div>\n",
       "<style scoped>\n",
       "    .dataframe tbody tr th:only-of-type {\n",
       "        vertical-align: middle;\n",
       "    }\n",
       "\n",
       "    .dataframe tbody tr th {\n",
       "        vertical-align: top;\n",
       "    }\n",
       "\n",
       "    .dataframe thead th {\n",
       "        text-align: right;\n",
       "    }\n",
       "</style>\n",
       "<table border=\"1\" class=\"dataframe\">\n",
       "  <thead>\n",
       "    <tr style=\"text-align: right;\">\n",
       "      <th></th>\n",
       "      <th>weekofmonth</th>\n",
       "      <th>0</th>\n",
       "    </tr>\n",
       "  </thead>\n",
       "  <tbody>\n",
       "    <tr>\n",
       "      <th>0</th>\n",
       "      <td>1</td>\n",
       "      <td>46.176471</td>\n",
       "    </tr>\n",
       "    <tr>\n",
       "      <th>1</th>\n",
       "      <td>2</td>\n",
       "      <td>44.887348</td>\n",
       "    </tr>\n",
       "    <tr>\n",
       "      <th>2</th>\n",
       "      <td>3</td>\n",
       "      <td>49.762131</td>\n",
       "    </tr>\n",
       "    <tr>\n",
       "      <th>3</th>\n",
       "      <td>4</td>\n",
       "      <td>52.637615</td>\n",
       "    </tr>\n",
       "    <tr>\n",
       "      <th>4</th>\n",
       "      <td>5</td>\n",
       "      <td>53.237410</td>\n",
       "    </tr>\n",
       "  </tbody>\n",
       "</table>\n",
       "</div>"
      ],
      "text/plain": [
       "   weekofmonth          0\n",
       "0            1  46.176471\n",
       "1            2  44.887348\n",
       "2            3  49.762131\n",
       "3            4  52.637615\n",
       "4            5  53.237410"
      ]
     },
     "execution_count": 41,
     "metadata": {},
     "output_type": "execute_result"
    }
   ],
   "source": [
    "september_conversioned_users_by_week = ((september_conversioned_users.groupby('weekofmonth'))['user_idx'].count()/september_users_by_week['user_count'])*100\n",
    "september_conversioned_users_by_week = september_conversioned_users_by_week.reset_index()\n",
    "september_conversioned_users_by_week.head()"
   ]
  },
  {
   "cell_type": "code",
   "execution_count": 43,
   "metadata": {},
   "outputs": [
    {
     "data": {
      "text/html": [
       "<div>\n",
       "<style scoped>\n",
       "    .dataframe tbody tr th:only-of-type {\n",
       "        vertical-align: middle;\n",
       "    }\n",
       "\n",
       "    .dataframe tbody tr th {\n",
       "        vertical-align: top;\n",
       "    }\n",
       "\n",
       "    .dataframe thead th {\n",
       "        text-align: right;\n",
       "    }\n",
       "</style>\n",
       "<table border=\"1\" class=\"dataframe\">\n",
       "  <thead>\n",
       "    <tr style=\"text-align: right;\">\n",
       "      <th></th>\n",
       "      <th>weekofmonth</th>\n",
       "      <th>Weekly Purchase Conversion Rate</th>\n",
       "    </tr>\n",
       "  </thead>\n",
       "  <tbody>\n",
       "    <tr>\n",
       "      <th>0</th>\n",
       "      <td>1</td>\n",
       "      <td>46.176471</td>\n",
       "    </tr>\n",
       "    <tr>\n",
       "      <th>1</th>\n",
       "      <td>2</td>\n",
       "      <td>44.887348</td>\n",
       "    </tr>\n",
       "    <tr>\n",
       "      <th>2</th>\n",
       "      <td>3</td>\n",
       "      <td>49.762131</td>\n",
       "    </tr>\n",
       "    <tr>\n",
       "      <th>3</th>\n",
       "      <td>4</td>\n",
       "      <td>52.637615</td>\n",
       "    </tr>\n",
       "    <tr>\n",
       "      <th>4</th>\n",
       "      <td>5</td>\n",
       "      <td>53.237410</td>\n",
       "    </tr>\n",
       "  </tbody>\n",
       "</table>\n",
       "</div>"
      ],
      "text/plain": [
       "   weekofmonth  Weekly Purchase Conversion Rate\n",
       "0            1                        46.176471\n",
       "1            2                        44.887348\n",
       "2            3                        49.762131\n",
       "3            4                        52.637615\n",
       "4            5                        53.237410"
      ]
     },
     "execution_count": 43,
     "metadata": {},
     "output_type": "execute_result"
    }
   ],
   "source": [
    "september_conversioned_users_by_week.rename({0:'Weekly Purchase Conversion Rate'}, inplace=True, axis=1)\n",
    "september_conversioned_users_by_week.head()"
   ]
  },
  {
   "cell_type": "code",
   "execution_count": 37,
   "metadata": {},
   "outputs": [],
   "source": [
    "weeks = []\n",
    "conversions = []\n",
    "week = 1\n",
    "for conversion_rate in september_conversioned_users_by_week['Weekly Purchase Conversion Rate']:\n",
    "    weeks.append(week)\n",
    "    conversions.append(conversion_rate)\n",
    "    week += 1"
   ]
  },
  {
   "cell_type": "code",
   "execution_count": 114,
   "metadata": {},
   "outputs": [],
   "source": [
    "# 그래프 마커에 주별/월별 매출 값을 표시하기 위한 함수 정의.\n",
    "def show_marker_values(x, y, ft):\n",
    "    #adding text inside the plot\n",
    "    for i in range(len(x)):\n",
    "        plt.text(x[i], y[i], str(\"{:.2f}\".format(y[i]))+'%', fontsize = ft)"
   ]
  },
  {
   "cell_type": "code",
   "execution_count": 115,
   "metadata": {},
   "outputs": [
    {
     "data": {
      "image/png": "[encoded data removed]",
      "text/plain": [
       "<Figure size 1800x576 with 1 Axes>"
      ]
     },
     "metadata": {
      "needs_background": "light"
     },
     "output_type": "display_data"
    }
   ],
   "source": [
    "# 월별 매출액 그래프.\n",
    "plt.rcParams['font.family'] = 'sans-serif' # 폰트 적용\n",
    "plt.rcParams['font.size'] = 15             # font 크기 조절\n",
    "plt.figure(figsize=(25, 8))                # 그래프 화면 출력 크기.\n",
    "plt.plot(weeks, conversions, color='orange', linestyle='--', marker='o', linewidth=4, markersize=15)\n",
    "show_marker_values(weeks, conversions, 22)\n",
    "plt.title('PURCHASE CONVERSION RATE BY THE WEEK OF THE MONTH')\n",
    "plt.xlabel('WEEK OF MONTH')\n",
    "plt.ylabel('WEEKLY CONVERSION RATE')\n",
    "plt.xticks(range(1,6))\n",
    "plt.grid(True)\n",
    "current_values = plt.gca().get_yticks()\n",
    "plt.show()"
   ]
  },
  {
   "cell_type": "code",
   "execution_count": null,
   "metadata": {},
   "outputs": [],
   "source": []
  },
  {
   "cell_type": "code",
   "execution_count": null,
   "metadata": {},
   "outputs": [],
   "source": []
  },
  {
   "cell_type": "code",
   "execution_count": null,
   "metadata": {},
   "outputs": [],
   "source": [
    "#############################################\n",
    "# 9월 주별 구매 전환율 결과 출력                  #\n",
    "#############################################"
   ]
  },
  {
   "cell_type": "code",
   "execution_count": 61,
   "metadata": {},
   "outputs": [],
   "source": [
    "september_daily_users = september_users.groupby('day').count()\n",
    "september_daily_users.rename({'user_idx':'user_count'}, inplace=True, axis=1)"
   ]
  },
  {
   "cell_type": "code",
   "execution_count": 62,
   "metadata": {},
   "outputs": [
    {
     "data": {
      "text/html": [
       "<div>\n",
       "<style scoped>\n",
       "    .dataframe tbody tr th:only-of-type {\n",
       "        vertical-align: middle;\n",
       "    }\n",
       "\n",
       "    .dataframe tbody tr th {\n",
       "        vertical-align: top;\n",
       "    }\n",
       "\n",
       "    .dataframe thead th {\n",
       "        text-align: right;\n",
       "    }\n",
       "</style>\n",
       "<table border=\"1\" class=\"dataframe\">\n",
       "  <thead>\n",
       "    <tr style=\"text-align: right;\">\n",
       "      <th></th>\n",
       "      <th>user_count</th>\n",
       "      <th>status</th>\n",
       "      <th>third_party_join_type</th>\n",
       "      <th>joined_date</th>\n",
       "      <th>month</th>\n",
       "      <th>year</th>\n",
       "      <th>weekofmonth</th>\n",
       "    </tr>\n",
       "    <tr>\n",
       "      <th>day</th>\n",
       "      <th></th>\n",
       "      <th></th>\n",
       "      <th></th>\n",
       "      <th></th>\n",
       "      <th></th>\n",
       "      <th></th>\n",
       "      <th></th>\n",
       "    </tr>\n",
       "  </thead>\n",
       "  <tbody>\n",
       "    <tr>\n",
       "      <th>1</th>\n",
       "      <td>60</td>\n",
       "      <td>60</td>\n",
       "      <td>2</td>\n",
       "      <td>60</td>\n",
       "      <td>60</td>\n",
       "      <td>60</td>\n",
       "      <td>60</td>\n",
       "    </tr>\n",
       "    <tr>\n",
       "      <th>2</th>\n",
       "      <td>58</td>\n",
       "      <td>58</td>\n",
       "      <td>2</td>\n",
       "      <td>58</td>\n",
       "      <td>58</td>\n",
       "      <td>58</td>\n",
       "      <td>58</td>\n",
       "    </tr>\n",
       "    <tr>\n",
       "      <th>3</th>\n",
       "      <td>51</td>\n",
       "      <td>51</td>\n",
       "      <td>2</td>\n",
       "      <td>51</td>\n",
       "      <td>51</td>\n",
       "      <td>51</td>\n",
       "      <td>51</td>\n",
       "    </tr>\n",
       "    <tr>\n",
       "      <th>4</th>\n",
       "      <td>37</td>\n",
       "      <td>37</td>\n",
       "      <td>1</td>\n",
       "      <td>37</td>\n",
       "      <td>37</td>\n",
       "      <td>37</td>\n",
       "      <td>37</td>\n",
       "    </tr>\n",
       "    <tr>\n",
       "      <th>5</th>\n",
       "      <td>57</td>\n",
       "      <td>57</td>\n",
       "      <td>3</td>\n",
       "      <td>57</td>\n",
       "      <td>57</td>\n",
       "      <td>57</td>\n",
       "      <td>57</td>\n",
       "    </tr>\n",
       "  </tbody>\n",
       "</table>\n",
       "</div>"
      ],
      "text/plain": [
       "     user_count  status  third_party_join_type  joined_date  month  year  \\\n",
       "day                                                                        \n",
       "1            60      60                      2           60     60    60   \n",
       "2            58      58                      2           58     58    58   \n",
       "3            51      51                      2           51     51    51   \n",
       "4            37      37                      1           37     37    37   \n",
       "5            57      57                      3           57     57    57   \n",
       "\n",
       "     weekofmonth  \n",
       "day               \n",
       "1             60  \n",
       "2             58  \n",
       "3             51  \n",
       "4             37  \n",
       "5             57  "
      ]
     },
     "execution_count": 62,
     "metadata": {},
     "output_type": "execute_result"
    }
   ],
   "source": [
    "september_daily_users.head(5)"
   ]
  },
  {
   "cell_type": "code",
   "execution_count": 128,
   "metadata": {},
   "outputs": [],
   "source": [
    "september_daily_conversioned_users = september_conversioned_users.groupby('day').count()\n",
    "september_daily_conversioned_users.rename({'user_idx':'user_count'}, inplace=True, axis=1)"
   ]
  },
  {
   "cell_type": "code",
   "execution_count": 129,
   "metadata": {},
   "outputs": [
    {
     "data": {
      "text/html": [
       "<div>\n",
       "<style scoped>\n",
       "    .dataframe tbody tr th:only-of-type {\n",
       "        vertical-align: middle;\n",
       "    }\n",
       "\n",
       "    .dataframe tbody tr th {\n",
       "        vertical-align: top;\n",
       "    }\n",
       "\n",
       "    .dataframe thead th {\n",
       "        text-align: right;\n",
       "    }\n",
       "</style>\n",
       "<table border=\"1\" class=\"dataframe\">\n",
       "  <thead>\n",
       "    <tr style=\"text-align: right;\">\n",
       "      <th></th>\n",
       "      <th>user_count</th>\n",
       "      <th>status</th>\n",
       "      <th>third_party_join_type</th>\n",
       "      <th>joined_date</th>\n",
       "      <th>month</th>\n",
       "      <th>year</th>\n",
       "      <th>weekofmonth</th>\n",
       "      <th>subscription_type</th>\n",
       "      <th>cart_discount_price</th>\n",
       "      <th>order_shipping_price</th>\n",
       "      <th>order_total_price</th>\n",
       "      <th>paid_date</th>\n",
       "    </tr>\n",
       "    <tr>\n",
       "      <th>day</th>\n",
       "      <th></th>\n",
       "      <th></th>\n",
       "      <th></th>\n",
       "      <th></th>\n",
       "      <th></th>\n",
       "      <th></th>\n",
       "      <th></th>\n",
       "      <th></th>\n",
       "      <th></th>\n",
       "      <th></th>\n",
       "      <th></th>\n",
       "      <th></th>\n",
       "    </tr>\n",
       "  </thead>\n",
       "  <tbody>\n",
       "    <tr>\n",
       "      <th>1</th>\n",
       "      <td>31</td>\n",
       "      <td>31</td>\n",
       "      <td>2</td>\n",
       "      <td>31</td>\n",
       "      <td>31</td>\n",
       "      <td>31</td>\n",
       "      <td>31</td>\n",
       "      <td>31</td>\n",
       "      <td>31</td>\n",
       "      <td>31</td>\n",
       "      <td>31</td>\n",
       "      <td>31</td>\n",
       "    </tr>\n",
       "    <tr>\n",
       "      <th>2</th>\n",
       "      <td>26</td>\n",
       "      <td>26</td>\n",
       "      <td>1</td>\n",
       "      <td>26</td>\n",
       "      <td>26</td>\n",
       "      <td>26</td>\n",
       "      <td>26</td>\n",
       "      <td>26</td>\n",
       "      <td>26</td>\n",
       "      <td>26</td>\n",
       "      <td>26</td>\n",
       "      <td>26</td>\n",
       "    </tr>\n",
       "    <tr>\n",
       "      <th>3</th>\n",
       "      <td>26</td>\n",
       "      <td>26</td>\n",
       "      <td>2</td>\n",
       "      <td>26</td>\n",
       "      <td>26</td>\n",
       "      <td>26</td>\n",
       "      <td>26</td>\n",
       "      <td>26</td>\n",
       "      <td>26</td>\n",
       "      <td>26</td>\n",
       "      <td>26</td>\n",
       "      <td>26</td>\n",
       "    </tr>\n",
       "    <tr>\n",
       "      <th>4</th>\n",
       "      <td>13</td>\n",
       "      <td>13</td>\n",
       "      <td>0</td>\n",
       "      <td>13</td>\n",
       "      <td>13</td>\n",
       "      <td>13</td>\n",
       "      <td>13</td>\n",
       "      <td>13</td>\n",
       "      <td>13</td>\n",
       "      <td>13</td>\n",
       "      <td>13</td>\n",
       "      <td>13</td>\n",
       "    </tr>\n",
       "    <tr>\n",
       "      <th>5</th>\n",
       "      <td>28</td>\n",
       "      <td>28</td>\n",
       "      <td>2</td>\n",
       "      <td>28</td>\n",
       "      <td>28</td>\n",
       "      <td>28</td>\n",
       "      <td>28</td>\n",
       "      <td>28</td>\n",
       "      <td>28</td>\n",
       "      <td>28</td>\n",
       "      <td>28</td>\n",
       "      <td>28</td>\n",
       "    </tr>\n",
       "  </tbody>\n",
       "</table>\n",
       "</div>"
      ],
      "text/plain": [
       "     user_count  status  third_party_join_type  joined_date  month  year  \\\n",
       "day                                                                        \n",
       "1            31      31                      2           31     31    31   \n",
       "2            26      26                      1           26     26    26   \n",
       "3            26      26                      2           26     26    26   \n",
       "4            13      13                      0           13     13    13   \n",
       "5            28      28                      2           28     28    28   \n",
       "\n",
       "     weekofmonth  subscription_type  cart_discount_price  \\\n",
       "day                                                        \n",
       "1             31                 31                   31   \n",
       "2             26                 26                   26   \n",
       "3             26                 26                   26   \n",
       "4             13                 13                   13   \n",
       "5             28                 28                   28   \n",
       "\n",
       "     order_shipping_price  order_total_price  paid_date  \n",
       "day                                                      \n",
       "1                      31                 31         31  \n",
       "2                      26                 26         26  \n",
       "3                      26                 26         26  \n",
       "4                      13                 13         13  \n",
       "5                      28                 28         28  "
      ]
     },
     "execution_count": 129,
     "metadata": {},
     "output_type": "execute_result"
    }
   ],
   "source": [
    "september_daily_conversioned_users.head(5)"
   ]
  },
  {
   "cell_type": "code",
   "execution_count": 130,
   "metadata": {},
   "outputs": [],
   "source": [
    "# 2020년 9월 일별 구매 전환 유저 비율 계산.\n",
    "september_daily_conversioned_users = (september_daily_conversioned_users['user_count'].count()/september_daily_users['user_count'])*100\n",
    "september_daily_conversioned_users = september_daily_conversioned_users.reset_index()\n",
    "september_daily_conversioned_users.rename({'user_count':'conversion rate'}, inplace=True, axis=1)"
   ]
  },
  {
   "cell_type": "code",
   "execution_count": 131,
   "metadata": {},
   "outputs": [
    {
     "data": {
      "text/html": [
       "<div>\n",
       "<style scoped>\n",
       "    .dataframe tbody tr th:only-of-type {\n",
       "        vertical-align: middle;\n",
       "    }\n",
       "\n",
       "    .dataframe tbody tr th {\n",
       "        vertical-align: top;\n",
       "    }\n",
       "\n",
       "    .dataframe thead th {\n",
       "        text-align: right;\n",
       "    }\n",
       "</style>\n",
       "<table border=\"1\" class=\"dataframe\">\n",
       "  <thead>\n",
       "    <tr style=\"text-align: right;\">\n",
       "      <th></th>\n",
       "      <th>day</th>\n",
       "      <th>conversion rate</th>\n",
       "    </tr>\n",
       "  </thead>\n",
       "  <tbody>\n",
       "    <tr>\n",
       "      <th>0</th>\n",
       "      <td>1</td>\n",
       "      <td>50.000000</td>\n",
       "    </tr>\n",
       "    <tr>\n",
       "      <th>1</th>\n",
       "      <td>2</td>\n",
       "      <td>51.724138</td>\n",
       "    </tr>\n",
       "    <tr>\n",
       "      <th>2</th>\n",
       "      <td>3</td>\n",
       "      <td>58.823529</td>\n",
       "    </tr>\n",
       "    <tr>\n",
       "      <th>3</th>\n",
       "      <td>4</td>\n",
       "      <td>81.081081</td>\n",
       "    </tr>\n",
       "    <tr>\n",
       "      <th>4</th>\n",
       "      <td>5</td>\n",
       "      <td>52.631579</td>\n",
       "    </tr>\n",
       "  </tbody>\n",
       "</table>\n",
       "</div>"
      ],
      "text/plain": [
       "   day  conversion rate\n",
       "0    1        50.000000\n",
       "1    2        51.724138\n",
       "2    3        58.823529\n",
       "3    4        81.081081\n",
       "4    5        52.631579"
      ]
     },
     "execution_count": 131,
     "metadata": {},
     "output_type": "execute_result"
    }
   ],
   "source": [
    "september_daily_conversioned_users.head()"
   ]
  },
  {
   "cell_type": "code",
   "execution_count": 134,
   "metadata": {},
   "outputs": [
    {
     "data": {
      "image/png": "[encoded data removed]",
      "text/plain": [
       "<Figure size 1800x576 with 1 Axes>"
      ]
     },
     "metadata": {
      "needs_background": "light"
     },
     "output_type": "display_data"
    }
   ],
   "source": [
    "# 월별 매출액 그래프.\n",
    "plt.rcParams['font.family'] = 'sans-serif' # 폰트 적용\n",
    "plt.rcParams['font.size'] = 15             # font 크기 조절\n",
    "plt.figure(figsize=(25, 8))                # 그래프 화면 출력 크기.\n",
    "plt.plot(september_daily_conversioned_users['day'], september_daily_conversioned_users['conversion rate'], color='#ff7906', linestyle='--', marker='o', linewidth=3, markersize=11)\n",
    "show_marker_values(september_daily_conversioned_users['day'], september_daily_conversioned_users['conversion rate'], 14)\n",
    "plt.title('PURCHASE CONVERSION RATE BY THE DAY OF THE MONTH')\n",
    "plt.xlabel('DAY OF MONTH')\n",
    "plt.ylabel('DAILY CONVERSION RATE')\n",
    "plt.xticks(range(1,31))\n",
    "plt.grid(True)\n",
    "current_values = plt.gca().get_yticks()\n",
    "plt.show()"
   ]
  },
  {
   "cell_type": "code",
   "execution_count": null,
   "metadata": {},
   "outputs": [],
   "source": []
  }
 ],
 "metadata": {
  "kernelspec": {
   "display_name": "Python 3",
   "language": "python",
   "name": "python3"
  },
  "language_info": {
   "codemirror_mode": {
    "name": "ipython",
    "version": 3
   },
   "file_extension": ".py",
   "mimetype": "text/x-python",
   "name": "python",
   "nbconvert_exporter": "python",
   "pygments_lexer": "ipython3",
   "version": "3.7.3"
  }
 },
 "nbformat": 4,
 "nbformat_minor": 2
}
